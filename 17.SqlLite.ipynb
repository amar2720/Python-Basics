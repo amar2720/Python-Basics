{
 "cells": [
  {
   "cell_type": "markdown",
   "metadata": {},
   "source": [
    "## Database connectivity and operations using Python.\n",
    "For Example, the following is the example of connecting with MySQL database \"my_database1\" and creating table grades1 and inserting values inside it."
   ]
  },
  {
   "cell_type": "code",
   "execution_count": 11,
   "metadata": {},
   "outputs": [
    {
     "data": {
      "text/plain": [
       "<sqlite3.Cursor at 0xe074b95dc0>"
      ]
     },
     "execution_count": 11,
     "metadata": {},
     "output_type": "execute_result"
    }
   ],
   "source": [
    "#import the package\n",
    "import sqlite3\n",
    "#connecting with the database\n",
    "db=sqlite3.connect(\"mydb1.db\")\n",
    "# Drop table if it already exist using execute() method.\n",
    "db.execute(\"drop table if exists grades2\")\n",
    "#create the table as per the requirement\n",
    "db.execute(\"create table grades2(id int,name str,score int)\")\n",
    "#Inserting values into the table grades1\n",
    "db.execute(\"insert into grades2(id,name,score)values(1,'Jasvee',100)\")\n",
    "db.execute(\"insert into grades2(id,name,score)values(2,'Amar',90)\")\n",
    "db.execute(\"insert into grades2(id,name,score)values(3,'Ranju',80)\")"
   ]
  },
  {
   "cell_type": "code",
   "execution_count": 12,
   "metadata": {},
   "outputs": [],
   "source": [
    "db.commit()"
   ]
  },
  {
   "cell_type": "code",
   "execution_count": 15,
   "metadata": {},
   "outputs": [
    {
     "name": "stdout",
     "output_type": "stream",
     "text": [
      "(1, 'Jasvee', 100)\n",
      "(2, 'Amar', 90)\n",
      "(3, 'Ranju', 80)\n",
      "------------------------------------------------------------------------------------------\n"
     ]
    }
   ],
   "source": [
    "results=db.execute(\"select * from grades2 order by id\")\n",
    "for rows in results:\n",
    "    print(rows)\n",
    "print('-'*90)"
   ]
  },
  {
   "cell_type": "code",
   "execution_count": 16,
   "metadata": {},
   "outputs": [
    {
     "name": "stdout",
     "output_type": "stream",
     "text": [
      "(1, 'Jasvee', 100)\n",
      "------------------------------------------------------------------------------------------\n"
     ]
    }
   ],
   "source": [
    "results = db.execute(\"select * from grades2 where name='Jasvee'\")\n",
    "for rows in results:\n",
    "    print(rows)\n",
    "print('-'*90)"
   ]
  },
  {
   "cell_type": "code",
   "execution_count": 17,
   "metadata": {},
   "outputs": [
    {
     "name": "stdout",
     "output_type": "stream",
     "text": [
      "(1, 'Jasvee', 100)\n",
      "(2, 'Amar', 90)\n",
      "------------------------------------------------------------------------------------------\n"
     ]
    }
   ],
   "source": [
    "results=db.execute(\"select * from grades2 where score>=90\")\n",
    "for grades in results:\n",
    "    print(grades)\n",
    "print('-'*90)"
   ]
  },
  {
   "cell_type": "code",
   "execution_count": 19,
   "metadata": {},
   "outputs": [
    {
     "name": "stdout",
     "output_type": "stream",
     "text": [
      "('Jasvee', 100)\n",
      "('Amar', 90)\n",
      "('Ranju', 80)\n",
      "------------------------------------------------------------------------------------------\n"
     ]
    }
   ],
   "source": [
    "results = db.execute(\"select name, score from grades2 order by score desc \")\n",
    "for row in results:\n",
    "    print(row)\n",
    "print('-'*90)"
   ]
  },
  {
   "cell_type": "code",
   "execution_count": 20,
   "metadata": {},
   "outputs": [
    {
     "name": "stdout",
     "output_type": "stream",
     "text": [
      "('Ranju', 80)\n",
      "('Amar', 90)\n",
      "('Jasvee', 100)\n",
      "------------------------------------------------------------------------------------------\n"
     ]
    }
   ],
   "source": [
    "results = db.execute(\"select name, score from grades2 order by score\")\n",
    "for row in results:\n",
    "    print(row)\n",
    "print(\"-\" * 90 )"
   ]
  },
  {
   "cell_type": "code",
   "execution_count": 21,
   "metadata": {},
   "outputs": [
    {
     "name": "stdout",
     "output_type": "stream",
     "text": [
      "('Ranju', 80)\n",
      "('Amar', 90)\n",
      "('Jasvee', 100)\n"
     ]
    }
   ],
   "source": [
    "results = db.execute(\"select name, score from grades2 order by score\")\n",
    "for row in results:\n",
    "    print(row)"
   ]
  },
  {
   "cell_type": "code",
   "execution_count": null,
   "metadata": {},
   "outputs": [],
   "source": []
  }
 ],
 "metadata": {
  "kernelspec": {
   "display_name": "Python 3",
   "language": "python",
   "name": "python3"
  },
  "language_info": {
   "codemirror_mode": {
    "name": "ipython",
    "version": 3
   },
   "file_extension": ".py",
   "mimetype": "text/x-python",
   "name": "python",
   "nbconvert_exporter": "python",
   "pygments_lexer": "ipython3",
   "version": "3.7.4"
  }
 },
 "nbformat": 4,
 "nbformat_minor": 2
}
