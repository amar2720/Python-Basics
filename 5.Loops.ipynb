{
 "cells": [
  {
   "cell_type": "code",
   "execution_count": 1,
   "metadata": {},
   "outputs": [
    {
     "name": "stdout",
     "output_type": "stream",
     "text": [
      "H\n",
      "eH\n",
      "leH\n",
      "lleH\n",
      "olleH\n",
      " olleH\n",
      "w olleH\n",
      "ow olleH\n",
      "row olleH\n",
      "lrow olleH\n",
      "dlrow olleH\n"
     ]
    }
   ],
   "source": [
    "st=\"Hello world\"\n",
    "m=\"\"\n",
    "for i in st:\n",
    "    m=i+m\n",
    "    print(m)"
   ]
  },
  {
   "cell_type": "code",
   "execution_count": 2,
   "metadata": {},
   "outputs": [
    {
     "name": "stdout",
     "output_type": "stream",
     "text": [
      "H\n",
      "He\n",
      "Hel\n",
      "Hell\n",
      "Hello\n",
      "Hello \n",
      "Hello w\n",
      "Hello wo\n",
      "Hello wor\n",
      "Hello worl\n",
      "Hello world\n"
     ]
    }
   ],
   "source": [
    "st=\"Hello world\"\n",
    "m=\"\"\n",
    "for i in st:\n",
    "    m=m+i\n",
    "    print(m)"
   ]
  },
  {
   "cell_type": "code",
   "execution_count": 3,
   "metadata": {},
   "outputs": [
    {
     "name": "stdout",
     "output_type": "stream",
     "text": [
      "dlrow olleH\n"
     ]
    }
   ],
   "source": [
    "#Reverse the string\n",
    "st=\"Hello world\"\n",
    "m=\"\"\n",
    "for i in st:\n",
    "    m=i+m\n",
    "print(m)"
   ]
  },
  {
   "cell_type": "code",
   "execution_count": 12,
   "metadata": {},
   "outputs": [
    {
     "name": "stdout",
     "output_type": "stream",
     "text": [
      "HelloJasveeAdithri\n"
     ]
    }
   ],
   "source": [
    "s=\"Hello Jasvee Adithri\"\n",
    "m=\"\"\n",
    "for i in s.split():\n",
    "    m=m+i\n",
    "print(m)"
   ]
  },
  {
   "cell_type": "code",
   "execution_count": 28,
   "metadata": {},
   "outputs": [
    {
     "name": "stdout",
     "output_type": "stream",
     "text": [
      "I like : Pop\n",
      "I like : Rock\n",
      "I like : Jazz\n"
     ]
    }
   ],
   "source": [
    "genre=['Pop','Rock','Jazz']\n",
    "len(genre)\n",
    "for i in genre:\n",
    "    print(\"I like :\" ,i) "
   ]
  },
  {
   "cell_type": "code",
   "execution_count": 32,
   "metadata": {},
   "outputs": [
    {
     "name": "stdout",
     "output_type": "stream",
     "text": [
      "1\n"
     ]
    }
   ],
   "source": [
    "#for i in list(range(len(genre)-1,0,-1)):\n",
    "genre=['A',\"A\",'Amar','A']\n",
    "count=0\n",
    "for i in genre:\n",
    "    if i == 'Amar':\n",
    "        count=count + 1\n",
    "print(count)"
   ]
  },
  {
   "cell_type": "code",
   "execution_count": 4,
   "metadata": {},
   "outputs": [
    {
     "name": "stdout",
     "output_type": "stream",
     "text": [
      "Total sum : 46\n"
     ]
    }
   ],
   "source": [
    "#Program to find the sum of all numbers stored in a list\n",
    "numbers = [6, 5, 3, 8, 4, 2, 5, 4,9]\n",
    "sum=0\n",
    "for i in numbers:\n",
    "    sum = sum+i\n",
    "\n",
    "print(\"Total sum : {}\".format(sum))"
   ]
  },
  {
   "cell_type": "markdown",
   "metadata": {},
   "source": [
    "### For else"
   ]
  },
  {
   "cell_type": "code",
   "execution_count": 11,
   "metadata": {},
   "outputs": [
    {
     "name": "stdout",
     "output_type": "stream",
     "text": [
      "1 2 3 4 5 No items left\n"
     ]
    }
   ],
   "source": [
    "digits = [1,2,3,4,5]\n",
    "for i in digits:\n",
    "    print(i,end=' ')\n",
    "else:\n",
    "    print(\"No items left\")"
   ]
  },
  {
   "cell_type": "markdown",
   "metadata": {},
   "source": [
    "### While loop\n",
    "\n",
    "The while loop in Python is used to iterate over a block of code as long as the test expression (condition) is true.\n",
    "\n",
    "We generally use this loop when we don't know beforehand, the number of times to iterate.\n",
    "\n",
    "In while loop, test expression is checked first. The body of the loop is entered only if the test_expression evaluates to True. After one iteration, the test expression is checked again. This process continues until the test_expression evaluates to False.\n",
    "\n",
    "In Python, the body of the while loop is determined through indentation.\n",
    "\n",
    "Body starts with indentation and the first unindented line marks the end.\n",
    "\n",
    "Python interprets any non-zero value as True. None and 0 are interpreted as False."
   ]
  },
  {
   "cell_type": "code",
   "execution_count": 8,
   "metadata": {},
   "outputs": [
    {
     "name": "stdout",
     "output_type": "stream",
     "text": [
      "Enter no : 2\n",
      "Total sum : 3\n"
     ]
    }
   ],
   "source": [
    "user_val=int(input(\"Enter no : \"))\n",
    "sum=0\n",
    "i=1\n",
    "while i<=user_val:\n",
    "    sum = sum + i\n",
    "    i = i+1\n",
    "print(\"Total sum : {}\".format(sum))"
   ]
  },
  {
   "cell_type": "code",
   "execution_count": null,
   "metadata": {},
   "outputs": [],
   "source": []
  },
  {
   "cell_type": "code",
   "execution_count": null,
   "metadata": {},
   "outputs": [],
   "source": []
  }
 ],
 "metadata": {
  "kernelspec": {
   "display_name": "Python 3",
   "language": "python",
   "name": "python3"
  },
  "language_info": {
   "codemirror_mode": {
    "name": "ipython",
    "version": 3
   },
   "file_extension": ".py",
   "mimetype": "text/x-python",
   "name": "python",
   "nbconvert_exporter": "python",
   "pygments_lexer": "ipython3",
   "version": "3.7.4"
  }
 },
 "nbformat": 4,
 "nbformat_minor": 2
}
