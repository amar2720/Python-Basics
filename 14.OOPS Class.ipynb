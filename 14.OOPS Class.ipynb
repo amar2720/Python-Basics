{
 "cells": [
  {
   "cell_type": "markdown",
   "metadata": {},
   "source": [
    "## Object Oriented Programming\n",
    "(OOP) is a programming paradigm that allows abstraction through the concept of interacting entities. This programming works contradictory to conventional model and is procedural, in which programs are organized as a sequence of commands or statements to perform.\n",
    "\n",
    "We can think an object as an entity that resides in memory, has a state and it's able to perform some actions.\n",
    "\n",
    "More formally objects are entities that represent instances of a general abstract concept called class. In Python, \"attributes\" are the variables defining an object state and the possible actions are called \"methods\"."
   ]
  },
  {
   "cell_type": "markdown",
   "metadata": {},
   "source": [
    "## Class\n",
    "* Class is a real world object example: car \n",
    "* The real world object have some properties and methods\n",
    "* Python support scripting as well as OOP's concept\n",
    "* For exmaple consider there is a car. if i say car and you don't have idea about which car i'am talking about eg: Audi or Bmw.\n",
    "* Class is a blue print of the real world object \n",
    "* Class is a classification or seperation of real world entity.\n",
    "* Object is a variable or instance of a class which means variable of a particular class is called object\n",
    "* int,string,float,bool - primitive class\n",
    "* List,set,tuple,dictionary - collection class"
   ]
  },
  {
   "cell_type": "code",
   "execution_count": 1,
   "metadata": {},
   "outputs": [
    {
     "ename": "SyntaxError",
     "evalue": "unexpected EOF while parsing (<ipython-input-1-d07f49cafae1>, line 3)",
     "output_type": "error",
     "traceback": [
      "\u001b[1;36m  File \u001b[1;32m\"<ipython-input-1-d07f49cafae1>\"\u001b[1;36m, line \u001b[1;32m3\u001b[0m\n\u001b[1;33m    #body of the class- to specify what it should do\u001b[0m\n\u001b[1;37m                                                    ^\u001b[0m\n\u001b[1;31mSyntaxError\u001b[0m\u001b[1;31m:\u001b[0m unexpected EOF while parsing\n"
     ]
    }
   ],
   "source": [
    "#To create a class\n",
    "class test():\n",
    "    #body of the class- to specify what it should do"
   ]
  },
  {
   "cell_type": "code",
   "execution_count": 2,
   "metadata": {},
   "outputs": [],
   "source": [
    "# pass keyword - Pass keyword only available in python and used to skip the body part and u r not supposed to write the body part.\n",
    "class test1():\n",
    "    pass"
   ]
  },
  {
   "cell_type": "code",
   "execution_count": 7,
   "metadata": {},
   "outputs": [
    {
     "name": "stdout",
     "output_type": "stream",
     "text": [
      "<__main__.Person object at 0x000000EEF46F1708>\n",
      "Jasvee alias JA was born on 20/09/2018\n",
      "Amar\n"
     ]
    }
   ],
   "source": [
    "class Person:\n",
    "    pass\n",
    "# i'm gng to create an object of the person class below\n",
    "P=Person()\n",
    "# Here P is the variable of the class Person\n",
    "#Whatever property inside the class(Person) we will be able to access those properties or attributes\n",
    "#But as of now here i don't have any properties and now i'm going to create an attributes.\n",
    "P.name=\"Jasvee\"\n",
    "P.surname=\"JA\"\n",
    "P.dob=\"20/09/2018\"\n",
    "# Here name,surname,dob(Properties) is a kind of variable which i have created for a particular class through an Person class object\n",
    "# And also i'm trying to pass the value of the particular attribute to the class.\n",
    "# Whatever you supposed to access the properties inside the class. you vl be able to do that with the help of an object\n",
    "# outside of the class u vl not be able to access\n",
    "#Here P is the object of the Person class and its print only the object location of the Person class\n",
    "print(P)\n",
    "\n",
    "#Here i'm accessing the attribute of the Person class with the help of an object\n",
    "print(\"{} alias {} was born on {}\".format(P.name,P.surname,P.dob))\n",
    "\n",
    "#The above is not a standard way and it is a bad practice i would say\n",
    "#Note - in one class i vl be able to create an infinite no of object for particular class\n",
    "PA = Person()\n",
    "PA.name='Amar'\n",
    "PA.surname='ARJ'\n",
    "print(PA.name)"
   ]
  },
  {
   "cell_type": "code",
   "execution_count": 8,
   "metadata": {},
   "outputs": [
    {
     "name": "stdout",
     "output_type": "stream",
     "text": [
      "<__main__.Person object at 0x000000EEF7611D08>\n",
      "Ms.Jasvee alias Adithri Amarnath was born on 20/09/2018\n"
     ]
    }
   ],
   "source": [
    "#What is a good practice, \n",
    "#How vl be able to create a class in a actual way/how vl be to pass the data/how vl be to create an object.\n",
    "#A. Create a class\n",
    "class Person:\n",
    "    #2. I'm trying to use methods\n",
    "    #3.i'm using __init__ -- This is the initialization method and this is the default method that u vl be able to find out in a class.\n",
    "    #4.__init__ does? -- Basically whenever u vl be able to find some method __xxx__ means this is the inbuilt method and try to override this method.\n",
    "    #5. self --Whenever we r gng to create a method within a class, we created a 1st variable called 'Self'.\n",
    "    #6. Here the 'self' variable behaves like a pointer not a keyword. which denotes it points to a class called \"Person\".\n",
    "    #7. Now what the pointer does? Here i'm trying to initialize the value(variables --> name,surname & dob) to the class.\n",
    "    #8. So we have 3 variables that i'm gng to pass at a run time at the time of creation of an object.\n",
    "    #9. Class should take all of those variables and it should be able to return all of those variables with respect to that object at any point of a time.\n",
    "    #10. It is some what equvalant to contructor but constructor is not avilable in python but in Java or C it is available.\n",
    "#B.Method to initialize values to the class\n",
    "#3variables - name,surname,dob\n",
    "    def __init__(self,name,surname,dob):\n",
    "        # Passing values of the corresponding varibles to the class Person   \n",
    "        #Self is like a kind of mapping\n",
    "        #Self.name -- self.name = name(whatever name you have written over here it will try to provide the name to person class)\n",
    "        #self.name variable belongs to the class\n",
    "        #name -- is an object which you are going to get from the  object\n",
    "        self.name1 = name\n",
    "        #Self.surname -- self.surname = surname(whatever surname you have written over here it will try to provide the name to person class)\n",
    "        self.surname = surname\n",
    "        #Self.dob -- self.dob = dob(whatever dob you have written over here it will try to provide the name to person class)\n",
    "        self.dob = dob \n",
    "        \n",
    "        #Person Class Variables are = self.name,self.surname,self.dob\n",
    "        # Object (method variables) variables are - name,surname,dob\n",
    "        \n",
    "#C.After creation of class what i'm trying to do is i'm trying to create a variable of the class called as an object.\n",
    "P=Person(\"Jasvee\",'Adithri Amarnath','20/09/2018')\n",
    "#Here it's printing just the memory location of the object of the Person class\n",
    "print(P)\n",
    "print(\"Ms.{} alias {} was born on {}\".format(P.name1,P.surname,P.dob))"
   ]
  },
  {
   "cell_type": "code",
   "execution_count": 9,
   "metadata": {},
   "outputs": [
    {
     "name": "stdout",
     "output_type": "stream",
     "text": [
      "Car model : TATA ALTROZ, Engine model : Alpha model, Mileage : 23Kmpl\n",
      "Car model : Ford Free style, Engine model : Normal, Mileage : 21kmpl\n"
     ]
    },
    {
     "data": {
      "text/plain": [
       "1026339001544"
      ]
     },
     "execution_count": 9,
     "metadata": {},
     "output_type": "execute_result"
    }
   ],
   "source": [
    "class car:\n",
    "    #Self(pointer) instead of self you should give any values like xyz and you are not supposed to give self everytime, but in many cases u vl be able to find self\n",
    "    def __init__(xyz,model,body,mileage):\n",
    "        xyz.model1=model\n",
    "        xyz.body1=body\n",
    "        xyz.mileage1=mileage\n",
    "#Here i have created two variable like Tata and Ford for the car class \n",
    "Tata=car(\"TATA ALTROZ\",'Alpha model','23Kmpl')\n",
    "Ford=car(\"Ford Free style\",'Normal','21kmpl')\n",
    "print(\"Car model : {}, Engine model : {}, Mileage : {}\".format(Tata.model1,Tata.body1,Tata.mileage1))\n",
    "print(\"Car model : {}, Engine model : {}, Mileage : {}\".format(Ford.model1,Ford.body1,Ford.mileage1))\n",
    "type(Tata)\n",
    "id(Tata)"
   ]
  },
  {
   "cell_type": "code",
   "execution_count": 10,
   "metadata": {},
   "outputs": [
    {
     "ename": "TypeError",
     "evalue": "__init__() missing 1 required positional argument: 'city'",
     "output_type": "error",
     "traceback": [
      "\u001b[1;31m---------------------------------------------------------------------------\u001b[0m",
      "\u001b[1;31mTypeError\u001b[0m                                 Traceback (most recent call last)",
      "\u001b[1;32m<ipython-input-10-8714f7f568f2>\u001b[0m in \u001b[0;36m<module>\u001b[1;34m\u001b[0m\n\u001b[0;32m     16\u001b[0m         \u001b[0mself\u001b[0m\u001b[1;33m.\u001b[0m\u001b[0mCity\u001b[0m\u001b[1;33m=\u001b[0m\u001b[0mcity\u001b[0m\u001b[1;33m\u001b[0m\u001b[1;33m\u001b[0m\u001b[0m\n\u001b[0;32m     17\u001b[0m \u001b[1;31m#For sure v vl be get an error like below\u001b[0m\u001b[1;33m\u001b[0m\u001b[1;33m\u001b[0m\u001b[1;33m\u001b[0m\u001b[0m\n\u001b[1;32m---> 18\u001b[1;33m \u001b[0mJA\u001b[0m\u001b[1;33m=\u001b[0m\u001b[0mJasvee\u001b[0m\u001b[1;33m(\u001b[0m\u001b[1;34m'Adithri'\u001b[0m\u001b[1;33m,\u001b[0m\u001b[1;34m'Amarnath'\u001b[0m\u001b[1;33m,\u001b[0m\u001b[1;34m'Ranjani'\u001b[0m\u001b[1;33m)\u001b[0m\u001b[1;33m\u001b[0m\u001b[1;33m\u001b[0m\u001b[0m\n\u001b[0m\u001b[0;32m     19\u001b[0m \u001b[0mprint\u001b[0m\u001b[1;33m(\u001b[0m\u001b[0mJA\u001b[0m\u001b[1;33m.\u001b[0m\u001b[0mName\u001b[0m\u001b[1;33m,\u001b[0m\u001b[0mJA\u001b[0m\u001b[1;33m.\u001b[0m\u001b[0mFname\u001b[0m\u001b[1;33m,\u001b[0m\u001b[0mJA\u001b[0m\u001b[1;33m.\u001b[0m\u001b[0mMname\u001b[0m\u001b[1;33m)\u001b[0m\u001b[1;33m\u001b[0m\u001b[1;33m\u001b[0m\u001b[0m\n",
      "\u001b[1;31mTypeError\u001b[0m: __init__() missing 1 required positional argument: 'city'"
     ]
    }
   ],
   "source": [
    "#Overloading - Generally same function name with diff arguments\n",
    "#Overloading is applicable in python but its takes the latest __init__ method not every method\n",
    "\n",
    "class Jasvee:\n",
    "    #Method 1\n",
    "    def __init__(self,name,fname,mname):\n",
    "        self.Name=name\n",
    "        self.Fname=fname\n",
    "        self.Mname=mname\n",
    "\n",
    "    #Method 2\n",
    "    def __init__(self,age,dob,gender,city):\n",
    "        self.Age=age\n",
    "        self.Dob=dob\n",
    "        self.Gender=gender\n",
    "        self.City=city\n",
    "#For sure v vl be get an error like below\n",
    "JA=Jasvee('Adithri','Amarnath','Ranjani')\n",
    "print(JA.Name,JA.Fname,JA.Mname)"
   ]
  },
  {
   "cell_type": "code",
   "execution_count": 27,
   "metadata": {},
   "outputs": [
    {
     "name": "stdout",
     "output_type": "stream",
     "text": [
      "1 2018 Female Thuraiyur\n"
     ]
    }
   ],
   "source": [
    "\n",
    "#Overloading - Generally same function name with diff arguments\n",
    "#Overloading is applicable in python but its takes the latest __init__ method inside the class not every method\n",
    "\n",
    "class Jasvee:\n",
    "    #Method 1\n",
    "    def __init__(self,name,fname,mname):\n",
    "        self.Name=name\n",
    "        self.Fname=fname\n",
    "        self.Mname=mname\n",
    "\n",
    "    #Method 2\n",
    "    def __init__(self,age,dob,gender,city):\n",
    "        self.Age=age\n",
    "        self.Dob=dob\n",
    "        self.Gender=gender\n",
    "        self.City=city\n",
    "\n",
    "JA=Jasvee(1,2018,'Female','Thuraiyur')\n",
    "print(JA.Age,JA.Dob,JA.Gender,JA.City)"
   ]
  },
  {
   "cell_type": "code",
   "execution_count": 15,
   "metadata": {},
   "outputs": [
    {
     "name": "stdout",
     "output_type": "stream",
     "text": [
      "JasveeAdithri Amar was born in \n",
      "2\n"
     ]
    }
   ],
   "source": [
    "#__str method__\n",
    "\n",
    "class Jasvee:\n",
    "    def __init__(self,name,age,yearofb):\n",
    "        self.Name=name\n",
    "        self.Age=age\n",
    "        self.Yearofb=yearofb\n",
    "#Here i'm using age method and in this i'm passing my own varaible- currentyr\n",
    "#And then own variable - class variable from Jasvee class\n",
    "#If i'm trying to invoke some of the class variable for sure i have to use self keyword or some other pointer name.\n",
    "#If am not using self keyword then i will not be able to invoke a class variable.\n",
    "#So with in a class you have to access something so you will have to use a  self name for pointer.\n",
    "#Outside of the class if you want to access then we need to use object name.\n",
    "def age(self,currentyr):\n",
    "        return currentyr-self.Yearofb\n",
    "#If u print the command instead of showing the output values it show only the memory address of the location. to solve this we need to cerate the seperate str method to display the output.  \n",
    "# Here __str__ is an inbuilt method \n",
    "    def __str__(self):\n",
    "        return \"{} {} was born in \".format(self.Name,self.Age,self.Yearofb)\n",
    "    \n",
    "J=Jasvee(\"JasveeAdithri\",'Amar',2018)\n",
    "print(J)\n",
    "#calling age method with the help of class Jasvee object  \n",
    "print(J.age(2020))"
   ]
  },
  {
   "cell_type": "code",
   "execution_count": 22,
   "metadata": {},
   "outputs": [
    {
     "name": "stdout",
     "output_type": "stream",
     "text": [
      "JasveeAdithri Amar was born in 2018 \n",
      "dict_keys(['Name', 'Age', 'Year'])\n"
     ]
    }
   ],
   "source": [
    "\n",
    "#__dict__ is a special attribute is a dictionary containing each attribute of an object.\n",
    "# We can see that prepending two underscores every key has _ClassName__ prepended.\n",
    "\n",
    "class Jasvee:\n",
    "    def __init__(self,name,age,yearofb):\n",
    "        self.Name=name\n",
    "        self.Age=age\n",
    "        self.Year=yearofb\n",
    "    def age(self,currentyr):\n",
    "        return currentyr-self.Yearofb\n",
    "    #If u use the print function,instead of showing the output values it show only the memory address of the location. to solve this we need to cerate the seperate str method to display the output.  \n",
    "    def __str__(self):\n",
    "        return \"{} {} was born in {} \".format(self.Name,self.Age,self.Year)\n",
    "    \n",
    "J=Jasvee(\"JasveeAdithri\",'Amar',2018)\n",
    "print(J)\n",
    "print(J.__dict__.keys())"
   ]
  },
  {
   "cell_type": "markdown",
   "metadata": {},
   "source": [
    "## Protect your abstraction\n",
    "Here the instance attributes shouldn't be accessible by the end user of an object as they are powerful mean of abstraction they should not reveal the internal implementation detail. In Python, there is no specific strict mechanism to protect object attributes but the official guidelines suggest that a variable that has an underscore prefix should be treated as 'Private'.\n",
    "\n",
    "Moreover prepending two underscores to a variable name makes the interpreter mangle a little the variable name."
   ]
  },
  {
   "cell_type": "markdown",
   "metadata": {},
   "source": [
    "### Abstraction :\n",
    "You might heard about public,public protected,private in other pgmg languages.\n",
    "If a class or variable or method is public so in that case you will be able to access those entities within a class outside of the class, within a package or outside of the package and in some other classes (Full access)\n",
    "\n",
    "If it is protected you will be able to access something within a class, outside of the class but outside of the package you will not be able to access.\n",
    "\n",
    "If it is private you will be able to access just within a class , outside of the class you will not be able to access and \n",
    "outside of the package you will not be able to access.\n",
    "\n",
    "So this is called as Abstraction. Abstraction is basically a oops programming language. In Python it's bit weird and it doesn't exixts in python but it exist's in some other form."
   ]
  },
  {
   "cell_type": "code",
   "execution_count": 48,
   "metadata": {},
   "outputs": [
    {
     "name": "stdout",
     "output_type": "stream",
     "text": [
      "dict_keys(['_name', '_age', '_dob'])\n",
      "Jasvee was born in 2018 and now she is 20 years old\n"
     ]
    }
   ],
   "source": [
    "class Amar:\n",
    "    def __init__(self,name,age,dob):\n",
    "        #_name,_age,_dob variable name it means that i'm trying to create variables for Person class and all this variables are protected variables.\n",
    "        #So it doesn't  mean that it is protected variable no, you will be able to access anywhere and outside of the package even. It just a notation inside the python\n",
    "        #There is no strict provision which can define that if it is protected so u will not be able to access beyond this limit.\n",
    "        #It simply means that whenever i'm gng to use this variable i'm assume that you are mature enough person or programmer who will try to handle this things by clear.\n",
    "        #So it just a notation in Python not a provision.\n",
    "    \n",
    "        self._name=name\n",
    "        self._age=age\n",
    "        self._dob=dob\n",
    "    def __str__(self):\n",
    "        return \"{} was born in {} and now she is {} years old\".format(A._name,A._dob,A._age)\n",
    "A=Amar('Jasvee',20,2018)\n",
    "A._name\n",
    "#print(\"{} was born in {} and now she is {} years old\".format(A._name,A._dob,A._age))\n",
    "print(A.__dict__.keys())\n",
    "print(A)"
   ]
  },
  {
   "cell_type": "code",
   "execution_count": 39,
   "metadata": {},
   "outputs": [
    {
     "name": "stdout",
     "output_type": "stream",
     "text": [
      "dict_keys(['_Mar__name', '_Mar__age', '_Mar__dob'])\n",
      "Jasvee\n"
     ]
    }
   ],
   "source": [
    "#Private variable\n",
    "class Mar:\n",
    "    def __init__(self,name,age,dob):\n",
    "        #_name,_age,_dob variable name it means that i'm trying to create variables for Person class and all this variables are protected variables.\n",
    "        #So it doesn't  mean that it is protected variable no, you will be able to access anywhere and outside of the package even. It just a notation inside the python\n",
    "        #There is no strict provision which can define that if it is protected so u will not be able to access beyond this limit.\n",
    "        #It simply means that whenever i'm gng to use this variable i'm assume that you are mature enough person or programmer who will try to handle this things by clear.\n",
    "        #So it just a notation in Python not a provision.\n",
    "    \n",
    "        self.__name=name\n",
    "        self.__age=age\n",
    "        self.__dob=dob\n",
    "M=Mar('Jasvee',20,2018)\n",
    "#M.__name\n",
    "\n",
    "#Why error because it is a private variable and whenever you try to create an protected variable internally your class is trying to giva a notation.\n",
    "#what kind of notation that how my class has stored all of variables i just want to know that how my class is understand those variables.\n",
    "#So if you want to know of those things \n",
    "print(M.__dict__.keys())\n",
    "#This going to gives you the all variable name. This is applibcable for all the classes.\n",
    "#Basically your class is trying to understand this variable, So whenever i'm trying to define a variable(__name)so internally class always trying to append __variable.\n",
    "#So whenever you want to access the private variable you have to give in this way.\n",
    "print(M._Mar__name)"
   ]
  },
  {
   "cell_type": "code",
   "execution_count": 23,
   "metadata": {},
   "outputs": [
    {
     "data": {
      "text/plain": [
       "['__class__',\n",
       " '__delattr__',\n",
       " '__dict__',\n",
       " '__dir__',\n",
       " '__doc__',\n",
       " '__eq__',\n",
       " '__format__',\n",
       " '__ge__',\n",
       " '__getattribute__',\n",
       " '__gt__',\n",
       " '__hash__',\n",
       " '__init__',\n",
       " '__init_subclass__',\n",
       " '__le__',\n",
       " '__lt__',\n",
       " '__module__',\n",
       " '__ne__',\n",
       " '__new__',\n",
       " '__reduce__',\n",
       " '__reduce_ex__',\n",
       " '__repr__',\n",
       " '__setattr__',\n",
       " '__sizeof__',\n",
       " '__str__',\n",
       " '__subclasshook__',\n",
       " '__weakref__',\n",
       " 'age']"
      ]
     },
     "execution_count": 23,
     "metadata": {},
     "output_type": "execute_result"
    }
   ],
   "source": [
    "#No Static keyword in Python, this keyword,constructor, final, private, protected , public not availble in python oops pgmg\n",
    "\n",
    "#Self is not a keyword it just a name for the reference of pointer\n",
    "\n",
    "#dir class\n",
    "dir(Jasvee)"
   ]
  },
  {
   "cell_type": "markdown",
   "metadata": {},
   "source": [
    "## Inheritance"
   ]
  },
  {
   "cell_type": "markdown",
   "metadata": {},
   "source": [
    "If you are trying to inherit the properties from parent to child class called as inheritance.which means whatever i have created over the parent class if i'm able to access every attributes in the child class.So you are not suppsoed to recreate in the child class you can reuse it.\n",
    "\n",
    "Basically Inheritance always try to increase reusability of a code.So instead of writting a code again and again what i vl do is try to inherit it and i vl reuse the code. "
   ]
  },
  {
   "cell_type": "code",
   "execution_count": 51,
   "metadata": {},
   "outputs": [
    {
     "name": "stdout",
     "output_type": "stream",
     "text": [
      "Jasvee was born in 2018 and now she is 20 years old\n",
      "<class '__main__.Student'>\n",
      "True\n",
      "True\n"
     ]
    }
   ],
   "source": [
    "#Here i'm creating the new class Student and i inheriting the class called Amar\n",
    "class Student(Amar):\n",
    "    #Here i inherit all the attributes and methods from the Amar to Student class.\n",
    "    def __init__(self,stud_id,*args,**kwargs):\n",
    "        #*args - In my Jasvee class i have some arguments, So pull all those arguments(variables) from Amar class to Student class.\n",
    "        #Whatever variables in Amar class we are trying to pull all those variables to Student class.\n",
    "        \n",
    "        #**kwargs - This is not a mandatory one, and it is a dictionary kind of structure and we have a key and value pairs kind of an argument.\n",
    "        #If you don't have any key value argument we are not supposed to use this.\n",
    "        #If we have a dictionary variable use it otherwise leave it, Suppose if you mention there then no pblm it won't harm the execution.\n",
    "        \n",
    "            super(Student,self).__init__(*args,**kwargs)\n",
    "            self._student_id=stud_id\n",
    "            \n",
    "            #super is a keyword and self refering to the Amar class(parent class)\n",
    "            #.__init__ -- So we are trying to  revoke the Amar class __int__ method over here.\n",
    "            # So super(Student,self).__init__(*args,**kwargs) - whatever attributes or methods in the __init__ in Amar class we are trying to reinitialize the same thing to the Student class.\n",
    "            # like self.name = name,self.age = age ....\n",
    "#Here it takes 4 arguments -- 1.Student and 3 from the Amar class            \n",
    "Ja=Student(1,'JasveeAdithri Amarnath',1,2018)\n",
    "print(Ja)\n",
    "print(type(Ja))\n",
    "#Here i'm trying to check is Ja is a instant of Amar class\n",
    "print(isinstance(Ja,Amar))\n",
    "print(isinstance(Ja,object))"
   ]
  },
  {
   "cell_type": "markdown",
   "metadata": {},
   "source": [
    "## Overriding methods\n",
    "Here it is simply means we are trying to change a body of a particular method with same function name. "
   ]
  },
  {
   "cell_type": "code",
   "execution_count": 56,
   "metadata": {},
   "outputs": [
    {
     "name": "stdout",
     "output_type": "stream",
     "text": [
      "Jasvee was born in 2018 and now she is 20 years old and has id : 20\n"
     ]
    }
   ],
   "source": [
    "class Student(Amar):\n",
    "    def __init__(self,stud_id,*args,**kwargs):\n",
    "        super(Student,self).__init__(*args,**kwargs)\n",
    "        self._student_id=stud_id\n",
    "    def __str__(self):\n",
    "        #Here i'm calling Amar class str method and append my new string in to it.\n",
    "        return super(Student,self).__str__() + \" and has id : {}\".format(self._student_id)\n",
    "Jasvee=Student(20,'JasveeAdithri','1',2018)\n",
    "print(Jasvee)\n"
   ]
  },
  {
   "cell_type": "markdown",
   "metadata": {},
   "source": [
    "## Encapsulation\n",
    "Hiding an implementation. you don't know about the implementation part.which means what are all the things had done in backend things are hidden.\n",
    "\n",
    "You will not be able to see the implementation but you can able to call all of those methods."
   ]
  },
  {
   "cell_type": "code",
   "execution_count": 66,
   "metadata": {},
   "outputs": [
    {
     "name": "stdout",
     "output_type": "stream",
     "text": [
      "Tyres: \n",
      " Tyres: Michillein \n",
      " Belted-Bias: True \n",
      " Optimal-Pressure: 32.0\n",
      "Engine: \n",
      " Fuel Type : Diesel \n",
      " Noise-Level : Medium \n",
      "Car body: \n",
      " Body size: Medium\n"
     ]
    }
   ],
   "source": [
    "class Tyres:\n",
    "    def __init__(self,branch,belted_bias,opt_pressure):\n",
    "        self.Branch=branch\n",
    "        self.Belted_bias=belted_bias\n",
    "        self.Opt_pressure=opt_pressure\n",
    "    def __str__(self):\n",
    "        return(\"Tyres: \\n Tyres: {} \\n Belted-Bias: {} \\n Optimal-Pressure: {}\".format(self.Branch,self.Belted_bias,self.Opt_pressure))\n",
    "class Engine:\n",
    "    def __init__(self,fuel_type,noise_level):\n",
    "        self.Fuel_type=fuel_type\n",
    "        self.Noise_level=noise_level\n",
    "    def __str__(self):\n",
    "        return(\"Engine: \\n Fuel Type : {} \\n Noise-Level : {} \".format(self.Fuel_type,self.Noise_level))\n",
    "class Body:\n",
    "    def __init__(self,size):\n",
    "        self.size=size\n",
    "    \n",
    "    def __str__(self):\n",
    "        return(\"Car body: \\n Body size: {}\".format(self.size))\n",
    "class Car:\n",
    "    def __init__(self,tyres,engine,body):\n",
    "        self.Tyres=tyres\n",
    "        self.Engine=engine\n",
    "        self.Body=body\n",
    "    \n",
    "    def __str__(self):\n",
    "        return str(self.Tyres) + \"\\n\" + str(self.Engine) + \"\\n\" + str(self.Body)\n",
    "T= Tyres('Michillein',True,32.0)\n",
    "E=Engine(\"Diesel\",'Medium')\n",
    "B=Body('Medium')\n",
    "#Here i'm passing the object of Tyre,Engine and Body class to the Car class object, instead of string or int i'm passing directly the objects.\n",
    "C=Car(T,E,B)\n",
    "print(C)"
   ]
  },
  {
   "cell_type": "markdown",
   "metadata": {},
   "source": [
    "## Polymorphism and Duck typing\n",
    "Consider me i am a father of someone, i'm a son of some one, i'm a husband of some one. In a different situations i behave or act accordingly. A single person but have different emotions or habits or role based on situation. one object but it bahaves different different situations."
   ]
  },
  {
   "cell_type": "code",
   "execution_count": 67,
   "metadata": {},
   "outputs": [
    {
     "name": "stdout",
     "output_type": "stream",
     "text": [
      "2\n",
      "['a', 'b', 'c', 'd', 'e', 'f']\n",
      "jasveeAdithri\n"
     ]
    }
   ],
   "source": [
    "#Here behaviour is going to change but the entity is not going to change. Here + operator basically a polymorphism operator  \n",
    "def summer(a,b):\n",
    "    return a+b\n",
    "print(summer(1,1))\n",
    "print(summer([\"a\",'b','c',\"d\"],[\"e\",'f']))\n",
    "print(summer(\"jasvee\",\"Adithri\"))"
   ]
  },
  {
   "cell_type": "code",
   "execution_count": null,
   "metadata": {},
   "outputs": [],
   "source": [
    "#We are just trying to reuse the classes which is already being created and i'm not supposed to recreate those classes again."
   ]
  }
 ],
 "metadata": {
  "kernelspec": {
   "display_name": "Python 3",
   "language": "python",
   "name": "python3"
  },
  "language_info": {
   "codemirror_mode": {
    "name": "ipython",
    "version": 3
   },
   "file_extension": ".py",
   "mimetype": "text/x-python",
   "name": "python",
   "nbconvert_exporter": "python",
   "pygments_lexer": "ipython3",
   "version": "3.7.4"
  }
 },
 "nbformat": 4,
 "nbformat_minor": 2
}
